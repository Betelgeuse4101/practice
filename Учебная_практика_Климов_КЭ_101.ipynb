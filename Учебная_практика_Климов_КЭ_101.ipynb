{
  "nbformat": 4,
  "nbformat_minor": 0,
  "metadata": {
    "colab": {
      "provenance": [],
      "mount_file_id": "1WmI8aaBNAJgwGGYpwUf72RjakJuS564Y",
      "authorship_tag": "ABX9TyOUI7uQbs3hg5reDt1k7OzV",
      "include_colab_link": true
    },
    "kernelspec": {
      "name": "python3",
      "display_name": "Python 3"
    },
    "language_info": {
      "name": "python"
    }
  },
  "cells": [
    {
      "cell_type": "markdown",
      "metadata": {
        "id": "view-in-github",
        "colab_type": "text"
      },
      "source": [
        "<a href=\"https://colab.research.google.com/github/Betelgeuse4101/practice/blob/main/%D0%A3%D1%87%D0%B5%D0%B1%D0%BD%D0%B0%D1%8F_%D0%BF%D1%80%D0%B0%D0%BA%D1%82%D0%B8%D0%BA%D0%B0_%D0%9A%D0%BB%D0%B8%D0%BC%D0%BE%D0%B2_%D0%9A%D0%AD_101.ipynb\" target=\"_parent\"><img src=\"https://colab.research.google.com/assets/colab-badge.svg\" alt=\"Open In Colab\"/></a>"
      ]
    },
    {
      "cell_type": "markdown",
      "source": [
        "# Numpy"
      ],
      "metadata": {
        "id": "biwWNa_kdH98"
      }
    },
    {
      "cell_type": "code",
      "source": [
        "import numpy as np\n",
        "\n",
        "# ЗАДАНИЕ 1\n",
        "size = int(input('Введите кол-во элементов одномерного массива: '))     # размер массива\n",
        "arr = np.array([np.random.randint(-70, 70) for i in range(size)])      # создание массива\n",
        "print(arr)\n",
        "\n",
        "def sort_array(arr: np.ndarray) -> np.ndarray:      # сортировка расческой (в лучшем случае О(nlogn), в худшем O(n^2))\n",
        "  step = arr.size - 1\n",
        "  while step > 0:\n",
        "    for i in range(0, arr.size - step):\n",
        "      if arr[i] > arr[i+step]:\n",
        "        arr[i], arr[i+step] = arr[i+step], arr[i]\n",
        "    step = int(step * 0.78)\n",
        "  return arr\n",
        "print(sort_array(arr))"
      ],
      "metadata": {
        "id": "rNO5z2fZdPwb",
        "colab": {
          "base_uri": "https://localhost:8080/"
        },
        "outputId": "51782942-dfaa-483c-e3ff-17774ca1beba",
        "collapsed": true
      },
      "execution_count": null,
      "outputs": [
        {
          "output_type": "stream",
          "name": "stdout",
          "text": [
            "Введите кол-во элементов одномерного массива: 25\n",
            "[ 57 -68  52  55  15 -21 -48   9 -51  -7  46  60 -54 -16 -37 -58  17  53\n",
            "  51  13  13 -13 -30 -44 -56]\n",
            "[-68 -58 -56 -54 -51 -48 -44 -37 -30 -21 -16 -13  -7   9  13  13  15  17\n",
            "  46  51  52  53  55  57  60]\n"
          ]
        }
      ]
    },
    {
      "cell_type": "code",
      "source": [
        "import numpy as np\n",
        "\n",
        "# ЗАДАНИЕ 2\n",
        "size1 = int(input('Введите размерность матрицы: '))    # Считывание размерности матрицы\n",
        "def triangle_matrix(size: int) -> np.ndarray:\n",
        "  matrix = np.asarray(np.eye(size1)).astype(int)   # матрица с единицами на главной диагонали\n",
        "  for i in range(size):     # заполнение элементов правее диагонали единицами\n",
        "    for j in range(size):\n",
        "      if j > i:\n",
        "        matrix[i, j] = 1\n",
        "  return matrix\n",
        "print(triangle_matrix(size1))"
      ],
      "metadata": {
        "colab": {
          "base_uri": "https://localhost:8080/"
        },
        "id": "YZ_lbKvv7IT_",
        "outputId": "5f8ff6fb-4a39-49c4-8567-b2de2f298014",
        "collapsed": true
      },
      "execution_count": null,
      "outputs": [
        {
          "output_type": "stream",
          "name": "stdout",
          "text": [
            "Введите размерность матрицы: 10\n",
            "[[1 1 1 1 1 1 1 1 1 1]\n",
            " [0 1 1 1 1 1 1 1 1 1]\n",
            " [0 0 1 1 1 1 1 1 1 1]\n",
            " [0 0 0 1 1 1 1 1 1 1]\n",
            " [0 0 0 0 1 1 1 1 1 1]\n",
            " [0 0 0 0 0 1 1 1 1 1]\n",
            " [0 0 0 0 0 0 1 1 1 1]\n",
            " [0 0 0 0 0 0 0 1 1 1]\n",
            " [0 0 0 0 0 0 0 0 1 1]\n",
            " [0 0 0 0 0 0 0 0 0 1]]\n"
          ]
        }
      ]
    },
    {
      "cell_type": "code",
      "source": [
        "import numpy as np\n",
        "import os\n",
        "print(os.getcwd())\n",
        "\n",
        "# ЗАДАНИЕ 3\n",
        "def create_matrix_from_file(file: str) -> np.matrix:\n",
        "  global lst_size    # список с размерностью матрицы А\n",
        "  lst_size = []\n",
        "  matrix = []\n",
        "  with open(file, 'r') as f:\n",
        "    lst_size = list(map(int, f.readline().split()))\n",
        "    for line in f:\n",
        "      row = list(map(float, line.strip().split()))   # Считывание матрицы из файла построчно\n",
        "      matrix.append(row)\n",
        "  print('Матрица А\\n', np.asmatrix(matrix, dtype=np.float64))\n",
        "  return np.asmatrix(matrix, dtype=np.float64)\n",
        "\n",
        "def create_matrix_B(n, m) -> np.matrix:\n",
        "  matrixB = np.asmatrix(np.random.randint(-50, 50, (lst_size[0], lst_size[1])), dtype=np.float64) # Создание случайной матрицы\n",
        "  print('Матрица В\\n', matrixB)\n",
        "  return matrixB\n",
        "\n",
        "def divide_by_min_elem(matrix: np.matrix) -> np.matrix:\n",
        "  for row in matrix:\n",
        "    min_nonzero = np.min(row[np.nonzero(row)])  # Минимальный элемент в строке\n",
        "    row /= min_nonzero\n",
        "  matrix1 = np.asmatrix(np.round(matrix, decimals=2))    # Округление элементов матрицы до сотых\n",
        "  print('Матрица А после деления\\n', matrix1)\n",
        "  return matrix1\n",
        "\n",
        "with open('result.txt', 'w') as f:\n",
        "  matrixA = divide_by_min_elem(create_matrix_from_file('input.txt'))\n",
        "  matrixB = create_matrix_B(lst_size[0], lst_size[1])\n",
        "  matrixC = matrixB - matrixA\n",
        "  f.write(str(matrixC))\n",
        "print('Матрица С\\n', matrixC)"
      ],
      "metadata": {
        "id": "wUvD4Rbf_Ayg",
        "colab": {
          "base_uri": "https://localhost:8080/"
        },
        "collapsed": true,
        "outputId": "ed7a00aa-7c4f-4e22-bcf3-999bbf40d767"
      },
      "execution_count": null,
      "outputs": [
        {
          "output_type": "stream",
          "name": "stdout",
          "text": [
            "/content\n",
            "Матрица А\n",
            " [[ 5.  0.  4.  2.  3.  4.  2.]\n",
            " [ 0.  2.  3.  5.  7.  4. 25.]\n",
            " [45. 12.  0.  3. 56. 12. 21.]\n",
            " [12. 78. 98.  5. 52. 14. 14.]\n",
            " [ 6. 56. 12. 32. 45. 89. 14.]\n",
            " [ 5. 65. 12.  0. 32. 85. 65.]]\n",
            "Матрица А после деления\n",
            " [[ 2.5   0.    2.    1.    1.5   2.    1.  ]\n",
            " [ 0.    1.    1.5   2.5   3.5   2.   12.5 ]\n",
            " [15.    4.    0.    1.   18.67  4.    7.  ]\n",
            " [ 2.4  15.6  19.6   1.   10.4   2.8   2.8 ]\n",
            " [ 1.    9.33  2.    5.33  7.5  14.83  2.33]\n",
            " [ 1.   13.    2.4   0.    6.4  17.   13.  ]]\n",
            "Матрица В\n",
            " [[  8. -38.  -8. -45. -30. -18. -24.]\n",
            " [ 40. -10.  28.  44.  42.  -1. -50.]\n",
            " [ -8.  -6.  29.   5. -11.  42. -47.]\n",
            " [-17.   5. -35. -35.  10. -18.  -8.]\n",
            " [ -1. -24.  -7. -30.  28.  40.  31.]\n",
            " [-34. -45.  14. -16.  48. -23. -11.]]\n",
            "Матрица С\n",
            " [[  5.5  -38.   -10.   -46.   -31.5  -20.   -25.  ]\n",
            " [ 40.   -11.    26.5   41.5   38.5   -3.   -62.5 ]\n",
            " [-23.   -10.    29.     4.   -29.67  38.   -54.  ]\n",
            " [-19.4  -10.6  -54.6  -36.    -0.4  -20.8  -10.8 ]\n",
            " [ -2.   -33.33  -9.   -35.33  20.5   25.17  28.67]\n",
            " [-35.   -58.    11.6  -16.    41.6  -40.   -24.  ]]\n"
          ]
        }
      ]
    },
    {
      "cell_type": "code",
      "source": [
        "import numpy as np\n",
        "\n",
        "# Задание 4"
      ],
      "metadata": {
        "id": "qM0t-FmZod_Z"
      },
      "execution_count": null,
      "outputs": []
    }
  ]
}